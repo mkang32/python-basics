{
 "cells": [
  {
   "attachments": {},
   "cell_type": "markdown",
   "metadata": {},
   "source": [
    "# 1. What is the dot prodcut?\n",
    "\n",
    "The dot product is an algebraic operation that takes two same-sized vectors and returns a single number.   \n",
    "\n",
    "**Algebraic definition**  \n",
    "The dot product is the sum of the products of the corresponding entries of the two sequences of numbers. [Wikipedia](https://en.wikipedia.org/wiki/Dot_product)\n",
    "$$\n",
    "a = [a_1, a_2, ..., a_n] \\\\\n",
    "b = [b_1, b_2, ..., b_n] \\\\\n",
    "a \\cdot b = \\sum_{i=1}^{n} a_i b_i\n",
    "$$\n",
    "\n",
    "If $a$ and $b$ are row matrices (row vectors), the dot product can be written as a matrix product. \n",
    "$$\n",
    "a \\cdot b = ab^\\rm T\n",
    "$$\n",
    "\n",
    "For example, if $a = [a_1, a_2, a_3]$ and $b = [b_1, b_2, b_3]$, it becomes\n",
    "$$[a_1, a_2, a_3]\n",
    "\\begin{bmatrix}\n",
    "b_1 \\\\\n",
    "b_2 \\\\\n",
    "b_3\n",
    "\\end{bmatrix}\n",
    "=a_1b_1 + a_2b_2 + a_3b_3\n",
    "$$\n",
    "\n",
    "\n",
    "**Geometric definition**  \n",
    "Geometrically, the dot product is the product of the Euclidean magnitudes of two vectors and the cosine of the angle between two. [Wikipedia](https://en.wikipedia.org/wiki/Dot_product)  \n",
    "\n",
    "$$ a \\cdot b = \\vert a \\vert \\vert b \\vert \\rm cos \\theta $$  \n",
    "\n",
    "Note that it is based on how much of one vector is in the direction of the other vector (projection). For example, in the below picture, the component of $A$ that is in the $B$ direction is $\\vert A \\vert \\rm cos \\theta$. Here, the magnitude of $A$ can be calculated by $\\vert A \\vert = \\sqrt{x^2 + y^2}$ if $A = (x, y)$ and the initial point is the origin.  \n",
    "\n",
    "\n",
    "![dot_product](images/Dot_Product.svg)\n",
    "\n",
    "\n",
    "Also note that if the two vectors are in the same direction, $\\rm cos \\theta = \\rm cos 0^{\\circ} = 1$ so it simply becomes the multiplication of the magnitude of the two vectors $a \\cdot b = \\vert a \\vert \\vert b \\vert$. On the other hand, if the two vectors are perpendicular, $\\rm cos \\theta = \\rm cos 90^{\\circ} = 0$ so the whole dot product becomes 0. ([Picture](https://en.wikipedia.org/wiki/Dot_product))  \n",
    "\n",
    "\n",
    "\n",
    "**Real world example**  \n",
    "So what does the dot product really mean to us? How can we use it in the real life?  \n",
    "Imagine you are in a grocery store. You want to buy 1 apple, 2 oranges, and 3 bananas. The unit prices are \\\\$1, \\\\$2, \\\\$0.5, respectively. [Image source](https://www.thestar.com/life/food_wine/2013/11/04/apples_oranges_or_bananas_which_fruit_is_nutritionally_the_best.html)\n",
    "\n",
    "\n",
    "<img src=\"images/apple_orange_banana.jpg\" alt=\"drawing\" width=\"300\"/>\n",
    "\n",
    "\n",
    "This can be written with a number of items vector ($a$) and a unit price vector ($b$).  \n",
    "$a = [1, 2, 3]$  \n",
    "$b = [\\$1, \\$2, \\$0.5]$\n",
    "\n",
    "The total cost will be the dot product of the two vectors:\n",
    "$$ \n",
    "ab^\\rm T = \n",
    "\\begin{bmatrix}\n",
    "1, 2, 3\n",
    "\\end{bmatrix}\n",
    "\\begin{bmatrix}\n",
    "\\$1 \\\\\n",
    "\\$2 \\\\\n",
    "\\$0.5\n",
    "\\end{bmatrix}\n",
    "=1 \\times \\$1 + 2 \\times \\$2 + 3 \\times \\$0.5 = \\$6.5 \n",
    "$$\n"
   ]
  },
  {
   "cell_type": "markdown",
   "metadata": {},
   "source": [
    "# 2. What is matrix multiplication?\n",
    "\n",
    "Matrix multiplication is a matrix version of the dot product. Remember the result of a dot product was a scalar. The result of matrix multiplication is a matrix, whose elements are the dot products of pairs of vectors in each matrix. [(Picture)](https://ml-cheatsheet.readthedocs.io/en/latest/linear_algebra.html)\n",
    "\n",
    "![matrix_multiplication](images/khan_academy_matrix_product.png)\n",
    "\n",
    "Note that the number of columns of $A$ and the number of rows of $B$ should match; $A: (m \\times n)$,  $B: (n \\times k) $  \n",
    "\n",
    "**Grocery example**  \n",
    "Let's go back to the previous grocery store example. Let us say that now there are two people who want to buy different numbers of apples, oranges, and bananas.  \n",
    "Person 1 wants 1 of each fruit: $a_1 = [1, 1, 1]$  \n",
    "Person 2 wants 10 of each fruit: $a_2 = [10, 10, 10]$\n",
    "\n",
    "Tehn we can make a matrix out of the two vectors: \n",
    "$$\n",
    "A= \n",
    "\\begin{bmatrix}\n",
    "a_1\\\\\n",
    "a_2\n",
    "\\end{bmatrix}\n",
    "=\n",
    "\\begin{bmatrix}\n",
    "1, \\ 1, \\ 1\\\\\n",
    "10, 10, 10\n",
    "\\end{bmatrix}\n",
    "$$  \n",
    "\n",
    "Now, instead of just using b as a row vector, we need to transpose b to make it a column vector. \n",
    "$$\n",
    "B = \n",
    "\\begin{bmatrix}\n",
    "\\$1\\\\\n",
    "\\$2\\\\\n",
    "\\$0.5\n",
    "\\end{bmatrix}\n",
    "$$\n",
    "\n",
    "Now the total price each person has to pay is: \n",
    "\n",
    "$$\n",
    "A \\cdot B = \n",
    "\\begin{bmatrix}\n",
    "1, \\ 1, \\ 1\\\\\n",
    "10, 10, 10\n",
    "\\end{bmatrix}\n",
    "\\begin{bmatrix}\n",
    "\\$1\\\\\n",
    "\\$2\\\\\n",
    "\\$0.5\n",
    "\\end{bmatrix}\n",
    "= \n",
    "\\begin{bmatrix}\n",
    "1 \\times \\$1 + 1 \\times \\$2 + 1 \\times \\$0.5 \\\\\n",
    "10 \\times \\$1 + 10 \\times \\$2 + 10 \\times \\$0.5\n",
    "\\end{bmatrix}\n",
    "=\n",
    "\\begin{bmatrix}\n",
    "\\$3.5 \\\\\n",
    "\\$35 \n",
    "\\end{bmatrix}\n",
    "$$ \n",
    "\n",
    "So the person 1 should pay \\\\$3.5 and person 2 should pay \\\\$35."
   ]
  },
  {
   "cell_type": "markdown",
   "metadata": {},
   "source": [
    "# 3. What's available for NumPy arrays? \n",
    "\n",
    "So, our goal is to find the best method in NumPy to perform the dot product or matrix multiplication. I compared five different options in three different categories:  \n",
    "\n",
    "1. element-wise multiplication: * , np.multiply\n",
    "2. dot product: np.dot \n",
    "3. matrix multiplication: np.matmul, @  \n",
    "\n",
    "We will go through different scenarios depending on the dimension of a vector/matrix and understand the pros and cons of each method."
   ]
  },
  {
   "cell_type": "code",
   "execution_count": 1,
   "metadata": {},
   "outputs": [],
   "source": [
    "import numpy as np"
   ]
  },
  {
   "cell_type": "markdown",
   "metadata": {},
   "source": [
    "## (1) element-wise multiplication: * and sum\n",
    "\n",
    "First, you can try a fundamental approach using element-wise multiplication; take each element in two vectors, multiply, and then sum all the output values. The downside of this is that you need two separate operations to perform the dot product. "
   ]
  },
  {
   "cell_type": "code",
   "execution_count": 2,
   "metadata": {},
   "outputs": [
    {
     "data": {
      "text/plain": [
       "32"
      ]
     },
     "execution_count": 2,
     "metadata": {},
     "output_type": "execute_result"
    }
   ],
   "source": [
    "a = np.array([1, 2, 3])\n",
    "b = np.array([4, 5, 6])\n",
    "\n",
    "a*b  # >> array([ 4, 10, 18])\n",
    "sum(a*b)  # >> 32"
   ]
  },
  {
   "cell_type": "markdown",
   "metadata": {},
   "source": [
    "However, because this is element-wise multiplication, not the dot product, you need to be careful when applying it to 2D arrays. Lookt at the example below:"
   ]
  },
  {
   "cell_type": "code",
   "execution_count": 3,
   "metadata": {},
   "outputs": [
    {
     "data": {
      "text/plain": [
       "array([[1, 2, 3],\n",
       "       [4, 5, 6]])"
      ]
     },
     "execution_count": 3,
     "metadata": {},
     "output_type": "execute_result"
    }
   ],
   "source": [
    "c = np.array([[1, 2, 3], [4, 5, 6]])\n",
    "d = np.array([1, 1, 1])\n",
    "\n",
    "c*d"
   ]
  },
  {
   "cell_type": "markdown",
   "metadata": {},
   "source": [
    "Here, each row of 2D array $c$ is considered as an element of the matrix and it is paired with the second array $d$ for element-wise multiplication.  \n",
    "\n",
    "$$\n",
    "\\begin{bmatrix}\n",
    "[1, 2, 3] * [1, 1, 1]  \\\\\n",
    "[4, 5, 6] * [1, 1, 1] \n",
    "\\end{bmatrix}\n",
    "= \n",
    "\\begin{bmatrix}\n",
    "[1 \\times 1, 2 \\times 1, 3 \\times 1] \\\\\n",
    "[4 \\times 1, 5 \\times 1, 6 \\times 1]\n",
    "\\end{bmatrix}\n",
    "=\\begin{bmatrix}\n",
    "1, 2, 3  \\\\\n",
    "4, 5, 6 \n",
    "\\end{bmatrix}\n",
    "$$\n",
    "\n",
    "If it was matrix multiplication, it would have been as follows.\n",
    "\n",
    "$$\n",
    "\\begin{bmatrix}\n",
    "1, 2, 3  \\\\\n",
    "4, 5, 6\n",
    "\\end{bmatrix}\n",
    "\\begin{bmatrix}\n",
    "1 \\\\\n",
    "1 \\\\\n",
    "1 \\\\\n",
    "\\end{bmatrix}\n",
    "= \n",
    "\\begin{bmatrix}\n",
    "1 \\times 1 + 2 \\times 1 + 3 \\times 1 \\\\\n",
    "4 \\times 1 + 5 \\times 1 + 6 \\times 1\n",
    "\\end{bmatrix}\n",
    "=\\begin{bmatrix}\n",
    "6  \\\\\n",
    "15\n",
    "\\end{bmatrix}\n",
    "$$\n",
    "\n",
    "If you want to get the same output, you need to apply `np.sum` to the `axis=1`. "
   ]
  },
  {
   "cell_type": "code",
   "execution_count": 4,
   "metadata": {},
   "outputs": [
    {
     "data": {
      "text/plain": [
       "array([ 6, 15])"
      ]
     },
     "execution_count": 4,
     "metadata": {},
     "output_type": "execute_result"
    }
   ],
   "source": [
    "np.sum(c*d, axis=1)"
   ]
  },
  {
   "cell_type": "markdown",
   "metadata": {},
   "source": [
    "## (2) element-wise multiplication: np.multiply and sum\n",
    "`np.multiply` is basically the same as `*`. It is an element-wise multiplication so you need to sum to get the final scalar output. "
   ]
  },
  {
   "cell_type": "code",
   "execution_count": 5,
   "metadata": {
    "scrolled": true
   },
   "outputs": [
    {
     "data": {
      "text/plain": [
       "32"
      ]
     },
     "execution_count": 5,
     "metadata": {},
     "output_type": "execute_result"
    }
   ],
   "source": [
    "a = np.array([1, 2, 3])\n",
    "b = np.array([4, 5, 6])\n",
    "\n",
    "np.multiply(a, b)  # >> array([ 4, 10, 18])\n",
    "sum(np.multiply(a, b))"
   ]
  },
  {
   "cell_type": "markdown",
   "metadata": {},
   "source": [
    "## (3) dot product: np.dot\n",
    "There is a nicer and simpler option in NumPy, which is `np.dot`. You can use either `np.dot(a, b)` or `a.dot(b)`. You don't need to multiply the elements and sum them. Simple and easy."
   ]
  },
  {
   "cell_type": "code",
   "execution_count": 6,
   "metadata": {},
   "outputs": [
    {
     "data": {
      "text/plain": [
       "32"
      ]
     },
     "execution_count": 6,
     "metadata": {},
     "output_type": "execute_result"
    }
   ],
   "source": [
    "a = np.array([1, 2, 3])\n",
    "b = np.array([4, 5, 6])\n",
    "\n",
    "np.dot(a, b)  # >> 32"
   ]
  },
  {
   "cell_type": "markdown",
   "metadata": {},
   "source": [
    "However, you need to be careful when it is a higher dimension. If the dimension of the array is 2D or higher, make sure the number of columns of the first array matches with the number of rows in the second array. "
   ]
  },
  {
   "cell_type": "code",
   "execution_count": 7,
   "metadata": {},
   "outputs": [
    {
     "ename": "ValueError",
     "evalue": "shapes (1,3) and (1,3) not aligned: 3 (dim 1) != 1 (dim 0)",
     "output_type": "error",
     "traceback": [
      "\u001b[0;31m---------------------------------------------------------------------------\u001b[0m",
      "\u001b[0;31mValueError\u001b[0m                                Traceback (most recent call last)",
      "\u001b[0;32m<ipython-input-7-3464d8c105ac>\u001b[0m in \u001b[0;36m<module>\u001b[0;34m\u001b[0m\n\u001b[1;32m      2\u001b[0m \u001b[0mb\u001b[0m \u001b[0;34m=\u001b[0m \u001b[0mnp\u001b[0m\u001b[0;34m.\u001b[0m\u001b[0marray\u001b[0m\u001b[0;34m(\u001b[0m\u001b[0;34m[\u001b[0m\u001b[0;34m[\u001b[0m\u001b[0;36m4\u001b[0m\u001b[0;34m,\u001b[0m \u001b[0;36m5\u001b[0m\u001b[0;34m,\u001b[0m \u001b[0;36m6\u001b[0m\u001b[0;34m]\u001b[0m\u001b[0;34m]\u001b[0m\u001b[0;34m)\u001b[0m  \u001b[0;31m# shape (1, 3)\u001b[0m\u001b[0;34m\u001b[0m\u001b[0;34m\u001b[0m\u001b[0m\n\u001b[1;32m      3\u001b[0m \u001b[0;34m\u001b[0m\u001b[0m\n\u001b[0;32m----> 4\u001b[0;31m \u001b[0mnp\u001b[0m\u001b[0;34m.\u001b[0m\u001b[0mdot\u001b[0m\u001b[0;34m(\u001b[0m\u001b[0ma\u001b[0m\u001b[0;34m,\u001b[0m \u001b[0mb\u001b[0m\u001b[0;34m)\u001b[0m  \u001b[0;31m# >> ValueError: shapes (1,3) and (1,3) not aligned: 3 (dim 1) != 1 (dim 0)\u001b[0m\u001b[0;34m\u001b[0m\u001b[0;34m\u001b[0m\u001b[0m\n\u001b[0m",
      "\u001b[0;32m<__array_function__ internals>\u001b[0m in \u001b[0;36mdot\u001b[0;34m(*args, **kwargs)\u001b[0m\n",
      "\u001b[0;31mValueError\u001b[0m: shapes (1,3) and (1,3) not aligned: 3 (dim 1) != 1 (dim 0)"
     ]
    }
   ],
   "source": [
    "a = np.array([[1, 2, 3]])  # shape (1, 3)\n",
    "b = np.array([[4, 5, 6]])  # shape (1, 3)\n",
    "\n",
    "np.dot(a, b)  # >> ValueError: shapes (1,3) and (1,3) not aligned: 3 (dim 1) != 1 (dim 0)"
   ]
  },
  {
   "cell_type": "markdown",
   "metadata": {},
   "source": [
    "To make the above example work, you need to transpose the second array so that the shapes are aligned: (1, 3) x (3, 1). **Note that this will return (1, 1), which is a 2D array.** "
   ]
  },
  {
   "cell_type": "code",
   "execution_count": 8,
   "metadata": {},
   "outputs": [
    {
     "data": {
      "text/plain": [
       "array([[32]])"
      ]
     },
     "execution_count": 8,
     "metadata": {},
     "output_type": "execute_result"
    }
   ],
   "source": [
    "a = np.array([[1, 2, 3]])  # shape (1, 3)\n",
    "b = np.array([[4, 5, 6]])  # shape (1, 3)\n",
    "\n",
    "np.dot(a, b.T)  # >> array([[32]])"
   ]
  },
  {
   "cell_type": "markdown",
   "metadata": {},
   "source": [
    "You can now guess that if the second array is a 1D array with shape (3, ) the output array will be a 1D array. Let's check it. "
   ]
  },
  {
   "cell_type": "code",
   "execution_count": 9,
   "metadata": {},
   "outputs": [
    {
     "data": {
      "text/plain": [
       "array([32])"
      ]
     },
     "execution_count": 9,
     "metadata": {},
     "output_type": "execute_result"
    }
   ],
   "source": [
    "a = np.array([[1, 2, 3]])  # shape (1, 3)\n",
    "b = np.array([4, 5, 6])  # shape (3, )\n",
    "\n",
    "np.dot(a, b)  # >> array([32])"
   ]
  },
  {
   "cell_type": "markdown",
   "metadata": {},
   "source": [
    "Okay, they are 2D arrays but still 1 dimensional row or column vectors. Will this method work for the previous 2D array x 2D array example as well? "
   ]
  },
  {
   "cell_type": "code",
   "execution_count": 10,
   "metadata": {
    "scrolled": true
   },
   "outputs": [
    {
     "data": {
      "text/plain": [
       "array([[ 6],\n",
       "       [15]])"
      ]
     },
     "execution_count": 10,
     "metadata": {},
     "output_type": "execute_result"
    }
   ],
   "source": [
    "c = np.array([[1, 2, 3], [4, 5, 6]])  # shape: (2, 3)\n",
    "d = np.array([[1], [1], [1]])  # shape: (3, 1)\n",
    "\n",
    "np.dot(c, d)"
   ]
  },
  {
   "cell_type": "markdown",
   "metadata": {},
   "source": [
    "Yes! Even if it is called `dot`, which indicates that the inputs are 1D vectors and the output is a scalar as in the definition, it works for 2D or higher dimensional matrices as if it was a matrix multiplication. In the above example,  \n",
    "$$\n",
    "\\begin{bmatrix}\n",
    "1, 2, 3 \\\\\n",
    "4, 5, 6 \n",
    "\\end{bmatrix}\n",
    "\\begin{bmatrix}\n",
    "1 \\\\\n",
    "1 \\\\\n",
    "1 \\\\\n",
    "\\end{bmatrix}\n",
    "=\n",
    "\\begin{bmatrix}\n",
    "1 \\times 1 + 2 \\times 1 + 3 \\times 1 \\\\\n",
    "4 \\times 1 + 5 \\times 1 + 6 \\times 1 \\\\\n",
    "\\end{bmatrix}\n",
    "=\n",
    "\\begin{bmatrix}\n",
    "6 \\\\\n",
    "15 \\\\\n",
    "\\end{bmatrix}\n",
    "$$\n",
    "\n",
    "\n",
    "This is what we wanted! This wasn't working in the `*` or `np.multiply` so it is definitely an improvement. So, should we use this method to all our dot product and matrix multiplication? \n",
    "\n",
    "Technically yes but no. It is not recommended to use `np.dot` for matrix multiplication because the name dot product has a specific meaning and it can be confusing to readers (mathematicians). [Reference](https://blog.finxter.com/numpy-matmul-operator/#Python_@_Operator)\n",
    "\n",
    "Also, it is not recommended for high dimensional matrices (3D or above) because it behaves different from normal matrix multiplication. We will discuss this later after seeing two more options. "
   ]
  },
  {
   "cell_type": "markdown",
   "metadata": {},
   "source": [
    "## (4) matrix multiplication: np.matmul\n",
    "So the next option is `np.matmul` and it is designed for matrix multiplication and the name comes from it (**MAT**rix **MUL**tiplication). Although the name says matrix multiplication, it also works with 1D array. Let's try the examples that we tested for `np.dot`. `np.matmul` works exactly same as `np.dot`. "
   ]
  },
  {
   "cell_type": "code",
   "execution_count": 11,
   "metadata": {},
   "outputs": [
    {
     "data": {
      "text/plain": [
       "32"
      ]
     },
     "execution_count": 11,
     "metadata": {},
     "output_type": "execute_result"
    }
   ],
   "source": [
    "# 1D array\n",
    "a = np.array([1, 2, 3])  # shape (1, 3)\n",
    "b = np.array([4, 5, 6])  # shape (1, 3)\n",
    "\n",
    "np.matmul(a, b)  # >> 32"
   ]
  },
  {
   "cell_type": "code",
   "execution_count": 12,
   "metadata": {},
   "outputs": [
    {
     "data": {
      "text/plain": [
       "array([[32]])"
      ]
     },
     "execution_count": 12,
     "metadata": {},
     "output_type": "execute_result"
    }
   ],
   "source": [
    "# 2D array with values in 1 axis\n",
    "a = np.array([[1, 2, 3]])  # shape (1, 3)\n",
    "b = np.array([[4, 5, 6]])  # shape (1, 3)\n",
    "\n",
    "np.dot(a, b.T)  # >> array([[32]])"
   ]
  },
  {
   "cell_type": "code",
   "execution_count": 13,
   "metadata": {},
   "outputs": [
    {
     "data": {
      "text/plain": [
       "array([[ 6],\n",
       "       [15]])"
      ]
     },
     "execution_count": 13,
     "metadata": {},
     "output_type": "execute_result"
    }
   ],
   "source": [
    "# 2D arrays\n",
    "c = np.array([[1, 2, 3], [4, 5, 6]])  # shape: (2, 3)\n",
    "d = np.array([[1], [1], [1]])  # shape: (3, 1)\n",
    "\n",
    "np.dot(c, d)"
   ]
  },
  {
   "cell_type": "markdown",
   "metadata": {},
   "source": [
    "Nice! So, this means both `np.dot` and `np.matmul` work perfectly for dot product and matrix multiplication. As we said before, however, it is recommended to use `np.dot` for 1D array operation which returns a scalar and `np.matmul` for 2D or higher matrix multiplication to avoid confusion around the notation. "
   ]
  },
  {
   "cell_type": "markdown",
   "metadata": {},
   "source": [
    "## (5) matrix multiplication: @\n",
    "\n",
    "Here comes the last option! `@` is a new operator that is introduced since Python 3.5, whose name comes from m**AT**rices. It is basically same as `np.matmul` and designed to perform matrix multiplication. But if they are the same thing and we already have `np.matmul` that works perfectly fine, why do we need a new infix? \n",
    "\n",
    "The major motivation for adding a new operator to stdlib was that the matrix multiplication is a so common operator that it deserves its own infix. For example, the operator `//` is much more uncommon than matrix multiplication but still has its own infix. To learn more about the background of this addition, check out this [PEP 465](https://www.python.org/dev/peps/pep-0465/)."
   ]
  },
  {
   "cell_type": "code",
   "execution_count": 14,
   "metadata": {},
   "outputs": [
    {
     "data": {
      "text/plain": [
       "32"
      ]
     },
     "execution_count": 14,
     "metadata": {},
     "output_type": "execute_result"
    }
   ],
   "source": [
    "# 1D array\n",
    "a = np.array([1, 2, 3])  # shape (1, 3)\n",
    "b = np.array([4, 5, 6])  # shape (1, 3)\n",
    "\n",
    "a @ b  # >> 32"
   ]
  },
  {
   "cell_type": "code",
   "execution_count": 15,
   "metadata": {},
   "outputs": [
    {
     "data": {
      "text/plain": [
       "array([[32]])"
      ]
     },
     "execution_count": 15,
     "metadata": {},
     "output_type": "execute_result"
    }
   ],
   "source": [
    "# 2D array with values in 1 axis\n",
    "a = np.array([[1, 2, 3]])  # shape (1, 3)\n",
    "b = np.array([[4, 5, 6]])  # shape (1, 3)\n",
    "\n",
    "a @ b.T  # >> array([[32]])"
   ]
  },
  {
   "cell_type": "code",
   "execution_count": 16,
   "metadata": {},
   "outputs": [
    {
     "data": {
      "text/plain": [
       "array([[ 6],\n",
       "       [15]])"
      ]
     },
     "execution_count": 16,
     "metadata": {},
     "output_type": "execute_result"
    }
   ],
   "source": [
    "# 2D arrays\n",
    "c = np.array([[1, 2, 3], [4, 5, 6]])  # shape: (2, 3)\n",
    "d = np.array([[1], [1], [1]])  # shape: (3, 1)\n",
    "\n",
    "c @ d"
   ]
  },
  {
   "cell_type": "markdown",
   "metadata": {},
   "source": [
    "So, it works exactly same as `np.matmul`. But which one should you use then? Although it is your preference, `@` looks cleaner than `np.matmul`. For example, if we want to perform matrix multiplication for 3 different matrices $x, y, z$ \n",
    "\n",
    "`np.matmul` version is: `np.matmul(np.matmul(x, y), z)`  \n",
    "whereas `@` version is: `x @ y @ z`  \n",
    "\n",
    "So, `@` is much more cleaner and readable. However, if you are using Python version below 3.5, you have to use `np.matmul`."
   ]
  },
  {
   "cell_type": "markdown",
   "metadata": {},
   "source": [
    "## So.. what's with np.not vs. np.matmul (@)?\n",
    "\n",
    "In the above section, I mentioned that np.dot is not recommended for high dimensional arrays, so what do I mean?  \n",
    "\n",
    "There was an interesting [question](https://stackoverflow.com/questions/34142485/difference-between-numpy-dot-and-python-3-5-matrix-multiplication) in stackoverflow about different behaviors between `np.dot` and `@`. Let's looks at this."
   ]
  },
  {
   "cell_type": "code",
   "execution_count": 17,
   "metadata": {},
   "outputs": [],
   "source": [
    "a = np.random.rand(3,2,2)  # 2 rows, 2 columns, in 3 layers \n",
    "b = np.random.rand(3,2,2)  # 2 rows, 2 columns, in 3 layers \n",
    "c = np.dot(a, b)\n",
    "d = a @ b  # Python 3.5+"
   ]
  },
  {
   "cell_type": "code",
   "execution_count": 18,
   "metadata": {
    "scrolled": true
   },
   "outputs": [
    {
     "data": {
      "text/plain": [
       "(3, 2, 3, 2)"
      ]
     },
     "execution_count": 18,
     "metadata": {},
     "output_type": "execute_result"
    }
   ],
   "source": [
    "c.shape  # np.dot"
   ]
  },
  {
   "cell_type": "code",
   "execution_count": 19,
   "metadata": {},
   "outputs": [
    {
     "data": {
      "text/plain": [
       "(3, 2, 2)"
      ]
     },
     "execution_count": 19,
     "metadata": {},
     "output_type": "execute_result"
    }
   ],
   "source": [
    "d.shape  # @"
   ]
  },
  {
   "cell_type": "markdown",
   "metadata": {},
   "source": [
    "How is this possible? This is because of how it is defined. If I take the [most voted answer](https://stackoverflow.com/a/34142617/9449085) here: \n",
    "\n",
    "=======================  \n",
    "From the documentation:\n",
    "\n",
    "`matmul` differs from `dot` in two important ways.  \n",
    "\n",
    "- Multiplication by scalars is not allowed.\n",
    "- Stacks of matrices are broadcast together as if the matrices were elements.  \n",
    "\n",
    "\n",
    "The last point makes it clear that dot and matmul methods behave differently when passed 3D (or higher dimensional) arrays. Quoting from the documentation some more:\n",
    "\n",
    "For `matmul`:\n",
    "> If either argument is N-D, N > 2, it is treated as a stack of matrices residing in the last two indexes and broadcast accordingly.\n",
    "\n",
    "For `np.dot`:\n",
    "> For 2-D arrays it is equivalent to matrix multiplication, and for 1-D arrays to inner product of vectors (without complex conjugation). For N dimensions it is a sum product over the last axis of a and the second-to-last of b\n",
    "\n",
    "=======================\n",
    "\n",
    "And the [official document](https://numpy.org/doc/stable/reference/generated/numpy.dot.html) \n",
    "> If a is an N-D array and b is an M-D array (where M>=2), it is a sum product over the last axis of a and the second-to-last axis of b:  \n",
    "> $ \\rm dot(a, b)[i,j,k,m] = \\rm sum(a[i,j,:] * b[k,:,m])$\n",
    "\n",
    "So, long story short, in the normal matrix multiplication situation where we want to treat each stack of matrices in the last two indexes, we should use `matmul`. "
   ]
  },
  {
   "cell_type": "markdown",
   "metadata": {},
   "source": [
    "# 4. Summary\n",
    "\n",
    "- `*` == `np.multiply` != `np.dot` != `np.matmul` == `@`\n",
    "- `*` and `np.multiply` need `sum` to perform dot product. Not recommended for dot product or matrix multiplication.\n",
    "- `np.dot` works for dot product and matrix multiplication. However, recommended to avoid using it for matrix multiplication due to the name. \n",
    "- `np.matmul` and `@` are the same thing, designed to perform matrix multiplication. `@` is added to Python 3.5+ to give matrix multiplication its own infix. \n",
    "- `np.dot` and `np.matmul` generally behave similarly other than 2 exceptions: 1) `matmul` doesn't allow multiplication by scalar, 2) the calculation is done differently for N>2 dimesion. Check the documentation which one you intend to use. \n",
    "\n",
    "One line summary: \n",
    "\n",
    "- **Use `np.dot` for dot product. For matrix multiplication, use `@` for Python 3.5 or above, and `np.matmul` for earlier Python versions.**   \n"
   ]
  }
 ],
 "metadata": {
  "kernelspec": {
   "display_name": "ml-basics",
   "language": "python",
   "name": "ml-basics"
  },
  "language_info": {
   "codemirror_mode": {
    "name": "ipython",
    "version": 3
   },
   "file_extension": ".py",
   "mimetype": "text/x-python",
   "name": "python",
   "nbconvert_exporter": "python",
   "pygments_lexer": "ipython3",
   "version": "3.7.3"
  }
 },
 "nbformat": 4,
 "nbformat_minor": 4
}
